{
 "metadata": {
  "language_info": {
   "codemirror_mode": {
    "name": "ipython",
    "version": 3
   },
   "file_extension": ".py",
   "mimetype": "text/x-python",
   "name": "python",
   "nbconvert_exporter": "python",
   "pygments_lexer": "ipython3",
   "version": "3.8.3"
  },
  "orig_nbformat": 4,
  "kernelspec": {
   "name": "python3",
   "display_name": "Python 3.8.3 64-bit ('base': conda)"
  },
  "interpreter": {
   "hash": "e2090b75444f45286af92f122a700414e62946f9a900a024e12dd376d831aa00"
  }
 },
 "nbformat": 4,
 "nbformat_minor": 2,
 "cells": [
  {
   "cell_type": "code",
   "execution_count": 4,
   "metadata": {},
   "outputs": [],
   "source": [
    "import QuantLib as ql"
   ]
  },
  {
   "cell_type": "code",
   "execution_count": 51,
   "metadata": {},
   "outputs": [],
   "source": [
    "class vanillaPrice:\n",
    "    calculation_date = ql.Date(31, 12, 2018)\n",
    "    risk_free_rate = 0\n",
    "    libor_rate = 0\n",
    "\n",
    "    def __init__(self, risk_free_rate, libor_rate):\n",
    "        self.risk_free_rate = risk_free_rate\n",
    "        self.libor_rate = libor_rate\n",
    "\n",
    "    def discountCurve(self):\n",
    "        day_count = ql.Actual365Fixed()\n",
    "        discount_curve = ql.YieldTermStructureHandle(ql.FlatForward(self.calculation_date, self.risk_free_rate, day_count))\n",
    "        return discount_curve\n",
    "\n",
    "    def liborIndex(self):\n",
    "        day_count = ql.Actual365Fixed()\n",
    "        libor_curve = ql.YieldTermStructureHandle(ql.FlatForward(self.calculation_date, self.libor_rate, day_count))\n",
    "        libor_index = ql.USDLibor(ql.Period(3, ql.Months), libor_curve)\n",
    "        return libor_index\n",
    "\n",
    "    def fixFloatLegSchedule(self):\n",
    "        calendar = ql.UnitedStates()\n",
    "        settle_date = calendar.advance(self.calculation_date, 5, ql.Days)\n",
    "        maturity_date = calendar.advance(settle_date, 10, ql.Years)\n",
    "        fixed_leg_tenor = ql.Period(6, ql.Months)\n",
    "        fixed_schedule = ql.Schedule(settle_date, maturity_date, \n",
    "                                    fixed_leg_tenor, calendar,\n",
    "                                    ql.ModifiedFollowing, ql.ModifiedFollowing,\n",
    "                                    ql.DateGeneration.Forward, False)\n",
    "        float_leg_tenor = ql.Period(3, ql.Months)\n",
    "        float_schedule = ql.Schedule (settle_date, maturity_date, \n",
    "                                    float_leg_tenor, calendar,\n",
    "                                    ql.ModifiedFollowing, ql.ModifiedFollowing,\n",
    "                                    ql.DateGeneration.Forward, False)\n",
    "        return fixed_schedule, float_schedule\n",
    "\n",
    "    def price(self, notional, fixed_rate, float_spread):\n",
    "        fixed_leg_daycount = ql.Actual360()\n",
    "        float_leg_daycount = ql.Actual360()\n",
    "        discount_curve = self.discountCurve()\n",
    "        libor_index = self.liborIndex()\n",
    "        fixed_schedule, float_schedule = self.fixFloatLegSchedule()\n",
    "        ir_swap = ql.VanillaSwap(ql.VanillaSwap.Payer, notional, fixed_schedule, \n",
    "                    fixed_rate, fixed_leg_daycount, float_schedule,\n",
    "                    libor_index, float_spread, float_leg_daycount )\n",
    "        swap_engine = ql.DiscountingSwapEngine(discount_curve)\n",
    "        ir_swap.setPricingEngine(swap_engine)\n",
    "        return ir_swap"
   ]
  },
  {
   "cell_type": "code",
   "execution_count": 52,
   "metadata": {},
   "outputs": [],
   "source": [
    "vanilla = vanillaPrice(0.01, 0.02)\n",
    "price = vanilla.price(10000000, 0.025, 0.004)"
   ]
  },
  {
   "cell_type": "code",
   "execution_count": 55,
   "metadata": {},
   "outputs": [
    {
     "output_type": "stream",
     "name": "stdout",
     "text": [
      "1 July 8th, 2019 125694.4444444441\n2 January 8th, 2020 127777.77777777777\n3 July 8th, 2020 126388.88888888866\n4 January 8th, 2021 127777.77777777777\n5 July 8th, 2021 125694.4444444441\n6 January 10th, 2022 129166.66666666688\n7 July 8th, 2022 124305.55555555501\n8 January 9th, 2023 128472.22222222232\n9 July 10th, 2023 126388.88888888866\n10 January 8th, 2024 126388.88888888866\n11 July 8th, 2024 126388.88888888866\n12 January 8th, 2025 127777.77777777777\n13 July 8th, 2025 125694.4444444441\n14 January 8th, 2026 127777.77777777777\n15 July 8th, 2026 125694.4444444441\n16 January 8th, 2027 127777.77777777777\n17 July 8th, 2027 125694.4444444441\n18 January 10th, 2028 129166.66666666688\n19 July 10th, 2028 126388.88888888866\n20 January 8th, 2029 126388.88888888866\n"
     ]
    }
   ],
   "source": [
    "for i, cf in enumerate(price.leg(0)):\n",
    "    print(i+1, cf.date(), cf.amount())"
   ]
  },
  {
   "cell_type": "code",
   "execution_count": 56,
   "metadata": {},
   "outputs": [
    {
     "output_type": "error",
     "ename": "RuntimeError",
     "evalue": "Missing USDLibor3M Actual/360 fixing for January 4th, 2019",
     "traceback": [
      "\u001b[0;31m---------------------------------------------------------------------------\u001b[0m",
      "\u001b[0;31mRuntimeError\u001b[0m                              Traceback (most recent call last)",
      "\u001b[0;32m<ipython-input-56-db067f4b7e07>\u001b[0m in \u001b[0;36m<module>\u001b[0;34m\u001b[0m\n\u001b[1;32m      1\u001b[0m \u001b[0;32mfor\u001b[0m \u001b[0mi\u001b[0m\u001b[0;34m,\u001b[0m \u001b[0mcf\u001b[0m \u001b[0;32min\u001b[0m \u001b[0menumerate\u001b[0m\u001b[0;34m(\u001b[0m\u001b[0mprice\u001b[0m\u001b[0;34m.\u001b[0m\u001b[0mleg\u001b[0m\u001b[0;34m(\u001b[0m\u001b[0;36m1\u001b[0m\u001b[0;34m)\u001b[0m\u001b[0;34m)\u001b[0m\u001b[0;34m:\u001b[0m\u001b[0;34m\u001b[0m\u001b[0;34m\u001b[0m\u001b[0m\n\u001b[0;32m----> 2\u001b[0;31m     \u001b[0mprint\u001b[0m\u001b[0;34m(\u001b[0m\u001b[0mi\u001b[0m\u001b[0;34m+\u001b[0m\u001b[0;36m1\u001b[0m\u001b[0;34m,\u001b[0m \u001b[0mcf\u001b[0m\u001b[0;34m.\u001b[0m\u001b[0mdate\u001b[0m\u001b[0;34m(\u001b[0m\u001b[0;34m)\u001b[0m\u001b[0;34m,\u001b[0m \u001b[0mcf\u001b[0m\u001b[0;34m.\u001b[0m\u001b[0mamount\u001b[0m\u001b[0;34m(\u001b[0m\u001b[0;34m)\u001b[0m\u001b[0;34m)\u001b[0m\u001b[0;34m\u001b[0m\u001b[0;34m\u001b[0m\u001b[0m\n\u001b[0m",
      "\u001b[0;32m~/opt/anaconda3/lib/python3.8/site-packages/QuantLib/QuantLib.py\u001b[0m in \u001b[0;36mamount\u001b[0;34m(self)\u001b[0m\n\u001b[1;32m   9972\u001b[0m \u001b[0;34m\u001b[0m\u001b[0m\n\u001b[1;32m   9973\u001b[0m     \u001b[0;32mdef\u001b[0m \u001b[0mamount\u001b[0m\u001b[0;34m(\u001b[0m\u001b[0mself\u001b[0m\u001b[0;34m)\u001b[0m\u001b[0;34m:\u001b[0m\u001b[0;34m\u001b[0m\u001b[0;34m\u001b[0m\u001b[0m\n\u001b[0;32m-> 9974\u001b[0;31m         \u001b[0;32mreturn\u001b[0m \u001b[0m_QuantLib\u001b[0m\u001b[0;34m.\u001b[0m\u001b[0mCashFlow_amount\u001b[0m\u001b[0;34m(\u001b[0m\u001b[0mself\u001b[0m\u001b[0;34m)\u001b[0m\u001b[0;34m\u001b[0m\u001b[0;34m\u001b[0m\u001b[0m\n\u001b[0m\u001b[1;32m   9975\u001b[0m \u001b[0;34m\u001b[0m\u001b[0m\n\u001b[1;32m   9976\u001b[0m     \u001b[0;32mdef\u001b[0m \u001b[0mdate\u001b[0m\u001b[0;34m(\u001b[0m\u001b[0mself\u001b[0m\u001b[0;34m)\u001b[0m\u001b[0;34m:\u001b[0m\u001b[0;34m\u001b[0m\u001b[0;34m\u001b[0m\u001b[0m\n",
      "\u001b[0;31mRuntimeError\u001b[0m: Missing USDLibor3M Actual/360 fixing for January 4th, 2019"
     ]
    }
   ],
   "source": [
    "for i, cf in enumerate(price.leg(1)):\n",
    "    print(i+1, cf.date(), cf.amount())"
   ]
  }
 ]
}