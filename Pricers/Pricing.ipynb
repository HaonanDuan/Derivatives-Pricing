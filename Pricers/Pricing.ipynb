{
 "cells": [
  {
   "cell_type": "code",
   "execution_count": 6,
   "metadata": {},
   "outputs": [],
   "source": [
    "import QuantLib as ql"
   ]
  },
  {
   "cell_type": "code",
   "execution_count": 32,
   "metadata": {},
   "outputs": [],
   "source": [
    "#chris, haonan project#\n",
    "class PricerBase:\n",
    "\n",
    "    def __init__(self, config):\n",
    "        self.risk_free_rate = config['risk_free_rate']\n",
    "        self.libor_rate = config['libor_rate']\n",
    "        self.calculation_date = config['calculation_date']\n",
    "        if config['forward'] != None:\n",
    "            self.forward = int(config['forward'][:-1])\n",
    "        else:\n",
    "            self.forward = 0\n",
    "        self.forward_dt = config['forward'][-1]\n",
    "        self.maturity = int(config['maturity'][:-1])\n",
    "        self.fixed_tenor = int(config['fixed_tenor'][:-1])\n",
    "        self.float_tenor = int(config['float_tenor'][:-1])\n",
    "        self.maturity_dt = config['maturity'][-1]\n",
    "        self.fixed_tenor_dt = config['fixed_tenor'][-1]\n",
    "        self.float_tenor_dt = config['float_tenor'][-1]\n",
    "    \n",
    "    def dateType(self, date_type):\n",
    "        if date_type == 'y':\n",
    "            return ql.Years\n",
    "        elif date_type == 'm':\n",
    "            return ql.Months\n",
    "        elif date_type == 'd':\n",
    "            return ql.Days\n",
    "\n",
    "    def discountCurve(self):\n",
    "        day_count = ql.Actual365Fixed()\n",
    "        discount_curve = ql.YieldTermStructureHandle(ql.FlatForward(self.calculation_date, self.risk_free_rate, day_count))\n",
    "        return discount_curve\n",
    "\n",
    "    def liborIndex(self):\n",
    "        day_count = ql.Actual365Fixed()\n",
    "        libor_curve = ql.YieldTermStructureHandle(ql.FlatForward(self.calculation_date, self.libor_rate, day_count))\n",
    "        libor_index = ql.Euribor3M(libor_curve)  \n",
    "        libor_index = ql.USDLibor(ql.Period(self.float_tenor, self.dateType(self.float_tenor_dt)), libor_curve)\n",
    "        return libor_index\n",
    "\n",
    "    def fixFloatLegSchedule(self):\n",
    "        calendar = ql.UnitedKingdom()\n",
    "        settle_date = calendar.advance(self.calculation_date, self.forward, self.dateType(self.forward_dt))\n",
    "        maturity_date = calendar.advance(settle_date, self.maturity, self.dateType(self.maturity_dt))\n",
    "        fixed_leg_tenor = ql.Period(self.fixed_tenor, self.dateType(self.fixed_tenor_dt))\n",
    "        fixed_schedule = ql.Schedule(settle_date, maturity_date, \n",
    "                                    fixed_leg_tenor, calendar,\n",
    "                                    ql.ModifiedFollowing, ql.ModifiedFollowing,\n",
    "                                    ql.DateGeneration.Forward, False)\n",
    "        float_leg_tenor = ql.Period(self.float_tenor, self.dateType(self.float_tenor_dt))\n",
    "        float_schedule = ql.Schedule (settle_date, maturity_date, \n",
    "                                    float_leg_tenor, calendar,\n",
    "                                    ql.ModifiedFollowing, ql.ModifiedFollowing,\n",
    "                                    ql.DateGeneration.Forward, False)\n",
    "        return fixed_schedule, float_schedule\n",
    "\n",
    "    def price(self, notional, fixed_rate, float_spread):\n",
    "        return 0"
   ]
  },
  {
   "cell_type": "code",
   "execution_count": 33,
   "metadata": {},
   "outputs": [],
   "source": [
    "class VanillaSwap(PricerBase):\n",
    "\n",
    "    def __init__(self, config):\n",
    "        super().__init__(config)\n",
    "\n",
    "    def Pricer(self, config):\n",
    "        notional = config['notional']\n",
    "        fixed_rate = config['fixed_rate']\n",
    "        float_spread = config['float_spread']\n",
    "        fixed_leg_daycount = ql.Actual365Fixed()\n",
    "        float_leg_daycount = ql.Actual365Fixed()\n",
    "        discount_curve = self.discountCurve()\n",
    "        libor_index = self.liborIndex()\n",
    "        fixed_schedule, float_schedule = self.fixFloatLegSchedule()\n",
    "        ir_swap = ql.VanillaSwap(ql.VanillaSwap.Payer, notional, fixed_schedule, \n",
    "                    fixed_rate, fixed_leg_daycount, float_schedule,\n",
    "                    libor_index, float_spread, float_leg_daycount )\n",
    "        swap_engine = ql.DiscountingSwapEngine(discount_curve)\n",
    "        \n",
    "        ir_swap.setPricingEngine(swap_engine)\n",
    "        return ir_swap"
   ]
  },
  {
   "cell_type": "code",
   "execution_count": 34,
   "metadata": {},
   "outputs": [],
   "source": [
    "my_config = {'risk_free_rate':0.01,'libor_rate':0.02,'calculation_date':ql.Date(31, 12, 2021),'forward':'5d','maturity':'10y',\n",
    "            'fixed_tenor':'6m','float_tenor':'3m','notional':10e6,'fixed_rate':0.025,'float_spread':0.004}"
   ]
  },
  {
   "cell_type": "code",
   "execution_count": 35,
   "metadata": {},
   "outputs": [],
   "source": [
    "vanilla = VanillaSwap(my_config)\n",
    "price = vanilla.Pricer(my_config)"
   ]
  },
  {
   "cell_type": "code",
   "execution_count": 36,
   "metadata": {
    "scrolled": false
   },
   "outputs": [
    {
     "name": "stdout",
     "output_type": "stream",
     "text": [
      "Fixed Leg Cashflows:\n",
      " 1    July 11th, 2022      124657.53\n",
      " 2    January 10th, 2023   125342.47\n",
      " 3    July 10th, 2023      123972.60\n",
      " 4    January 10th, 2024   126027.40\n",
      " 5    July 10th, 2024      124657.53\n",
      " 6    January 10th, 2025   126027.40\n",
      " 7    July 10th, 2025      123972.60\n",
      " 8    January 12th, 2026   127397.26\n",
      " 9    July 10th, 2026      122602.74\n",
      "10    January 11th, 2027   126712.33\n",
      "11    July 12th, 2027      124657.53\n",
      "12    January 10th, 2028   124657.53\n",
      "13    July 10th, 2028      124657.53\n",
      "14    January 10th, 2029   126027.40\n",
      "15    July 10th, 2029      123972.60\n",
      "16    January 10th, 2030   126027.40\n",
      "17    July 10th, 2030      123972.60\n",
      "18    January 10th, 2031   126027.40\n",
      "19    July 10th, 2031      123972.60\n",
      "20    January 12th, 2032   127397.26\n"
     ]
    }
   ],
   "source": [
    "print(\"Fixed Leg Cashflows:\")\n",
    "for i, cf in enumerate(price.leg(0)):\n",
    "    print(\"%2d    %-18s  %10.2f\"%(i+1, cf.date(), cf.amount()))"
   ]
  },
  {
   "cell_type": "code",
   "execution_count": 37,
   "metadata": {},
   "outputs": [
    {
     "name": "stdout",
     "output_type": "stream",
     "text": [
      "1 April 11th, 2022 59275.37855344458\n",
      "2 July 11th, 2022 59275.37855344458\n",
      "3 October 10th, 2022 59275.37855344458\n",
      "4 January 10th, 2023 59928.123104113496\n",
      "5 April 11th, 2023 59275.37855344239\n",
      "6 July 10th, 2023 58622.66376390512\n",
      "7 October 10th, 2023 59928.123104113496\n",
      "8 January 10th, 2024 59928.12310411568\n",
      "9 April 10th, 2024 59275.37855344458\n",
      "10 July 10th, 2024 59275.37855344458\n",
      "11 October 10th, 2024 59928.123104113496\n",
      "12 January 10th, 2025 59928.12310411568\n",
      "13 April 10th, 2025 58622.663763902936\n",
      "14 July 10th, 2025 59275.37855344458\n",
      "15 October 10th, 2025 59928.123104113496\n",
      "16 January 12th, 2026 61233.70149536812\n",
      "17 April 10th, 2026 57317.323461694854\n",
      "18 July 10th, 2026 59275.37855344458\n",
      "19 October 12th, 2026 61233.70149536592\n",
      "20 January 11th, 2027 59275.37855344677\n",
      "21 April 12th, 2027 59275.37855344239\n",
      "22 July 12th, 2027 59275.37855344458\n",
      "23 October 11th, 2027 59275.37855344458\n",
      "24 January 10th, 2028 59275.37855344458\n",
      "25 April 10th, 2028 59275.37855344458\n",
      "26 July 10th, 2028 59275.37855344458\n",
      "27 October 10th, 2028 59928.123104113496\n",
      "28 January 10th, 2029 59928.12310411568\n",
      "29 April 10th, 2029 58622.66376390512\n",
      "30 July 10th, 2029 59275.37855344458\n",
      "31 October 10th, 2029 59928.123104113496\n",
      "32 January 10th, 2030 59928.123104113496\n",
      "33 April 10th, 2030 58622.66376390512\n",
      "34 July 10th, 2030 59275.37855344458\n",
      "35 October 10th, 2030 59928.123104113496\n",
      "36 January 10th, 2031 59928.123104113496\n",
      "37 April 10th, 2031 58622.66376390512\n",
      "38 July 10th, 2031 59275.37855344458\n",
      "39 October 10th, 2031 59928.123104113496\n",
      "40 January 12th, 2032 61233.70149536812\n"
     ]
    }
   ],
   "source": [
    "for i, cf in enumerate(price.leg(1)):\n",
    "    print(i+1, cf.date(), cf.amount())"
   ]
  }
 ],
 "metadata": {
  "kernelspec": {
   "display_name": "Python 3",
   "language": "python",
   "name": "python3"
  },
  "language_info": {
   "codemirror_mode": {
    "name": "ipython",
    "version": 3
   },
   "file_extension": ".py",
   "mimetype": "text/x-python",
   "name": "python",
   "nbconvert_exporter": "python",
   "pygments_lexer": "ipython3",
   "version": "3.8.5"
  }
 },
 "nbformat": 4,
 "nbformat_minor": 4
}
