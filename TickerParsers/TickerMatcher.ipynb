{
 "cells": [
  {
   "cell_type": "code",
   "execution_count": 1,
   "metadata": {},
   "outputs": [],
   "source": [
    "import re #regular expression library"
   ]
  },
  {
   "cell_type": "code",
   "execution_count": 3,
   "metadata": {},
   "outputs": [],
   "source": [
    "#The class that parse the ticker of derivatives\n",
    "class TickerMatcher:\n",
    "    \n",
    "    # extract all the parts from the IR Swap ticker\n",
    "    # @param ticker is the ticker to be parsed\n",
    "    # @return extracted ccy, swap type, forward and maturity if ticker is valid\n",
    "    def IR_match(self, ccy_list, swap_list, ticker):\n",
    "        for ccy in ccy_list:\n",
    "            for swap in swap_list:\n",
    "                reg = re.compile(ccy + swap + '(\\d+[ymwb])?(\\d+[ymwb])') \n",
    "                result = reg.match(ticker) #match the ticker with regEx\n",
    "                #extract components if matched\n",
    "                if result != None:\n",
    "                    forward = result.group(1)\n",
    "                    maturity = result.group(2)\n",
    "                    #none of the components except 'forward' are allowed to be None\n",
    "                    if (ccy != None) and (swap != None) and (maturity != None):\n",
    "                        return ccy, swap, forward, maturity\n",
    "                    else:\n",
    "                        return 'Ticker Invalid'\n",
    "\n",
    "        return 'Ticker Invalid'"
   ]
  },
  {
   "cell_type": "code",
   "execution_count": 4,
   "metadata": {},
   "outputs": [],
   "source": [
    "ccy_list = ['us', 'bp']\n",
    "swap_list = ['ois', 'ff']"
   ]
  },
  {
   "cell_type": "code",
   "execution_count": 5,
   "metadata": {},
   "outputs": [
    {
     "output_type": "stream",
     "name": "stdout",
     "text": [
      "('us', 'ois', None, '10y')\n('bp', 'ff', '5y', '10y')\nTicker Invalid\n"
     ]
    }
   ],
   "source": [
    "matcher = TickerMatcher()\n",
    "for ticker in ['usois10y', 'bpff5y10y', 'ussw10x']:\n",
    "    print(matcher.IR_match(ccy_list, swap_list, ticker))"
   ]
  },
  {
   "cell_type": "code",
   "execution_count": null,
   "metadata": {},
   "outputs": [],
   "source": []
  }
 ],
 "metadata": {
  "kernelspec": {
   "display_name": "Python 3.8.3 64-bit ('anaconda3': virtualenv)",
   "language": "python",
   "name": "python383jvsc74a57bd0e2090b75444f45286af92f122a700414e62946f9a900a024e12dd376d831aa00"
  },
  "language_info": {
   "codemirror_mode": {
    "name": "ipython",
    "version": 3
   },
   "file_extension": ".py",
   "mimetype": "text/x-python",
   "name": "python",
   "nbconvert_exporter": "python",
   "pygments_lexer": "ipython3",
   "version": "3.8.3"
  },
  "toc": {
   "base_numbering": 1,
   "nav_menu": {},
   "number_sections": true,
   "sideBar": true,
   "skip_h1_title": false,
   "title_cell": "Table of Contents",
   "title_sidebar": "Contents",
   "toc_cell": false,
   "toc_position": {},
   "toc_section_display": true,
   "toc_window_display": false
  }
 },
 "nbformat": 4,
 "nbformat_minor": 4
}