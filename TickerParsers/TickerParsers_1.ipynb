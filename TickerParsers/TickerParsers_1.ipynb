{
 "cells": [
  {
   "cell_type": "code",
   "execution_count": 1,
   "metadata": {},
   "outputs": [],
   "source": [
    "import re #regular expression library"
   ]
  },
  {
   "cell_type": "code",
   "execution_count": 2,
   "metadata": {},
   "outputs": [],
   "source": [
    "# extract all the parts from the IR Swap ticker\n",
    "# @param ticker is the ticker to be parsed\n",
    "# @return extracted ccy, swap type, forward and maturity\n",
    "class TickerMatcher:\n",
    "    def __init__(self):\n",
    "        self.ticker = None\n",
    "    \n",
    "    def match(self, ticker):\n",
    "        reg = re.compile('(\\w\\w)(\\D+)(\\d+\\w)?(\\d+\\w)') #define ticker's regEx\n",
    "        result = reg.match(ticker) #match the ticker with regEx\n",
    "    \n",
    "        #extract each part from matched result\n",
    "        ccy = result.group(1) \n",
    "        swap_type = result.group(2)\n",
    "        forward = result.group(3)\n",
    "        maturity = result.group(4)\n",
    "    \n",
    "        return ccy, swap_type, forward, maturity\n",
    "\n",
    "'''\n",
    "Modification（Pseudocode）：\n",
    "loop through first n characters of the ticker:\n",
    "    if ticker[0:n] in ccy_list:\n",
    "        ccy = ticker[0:n]\n",
    "        ticker = ticker[n:]\n",
    "Then, use the method above to parse the remaining part.\n",
    "Check if swap_type is in swap_type_list.\n",
    "\n",
    "Possible issue:\n",
    "We may have 'us' and 'usdt' as ccy.\n",
    "If we are having 'usdtois10y' as our ticker, the above algorithm will return 'us' and 'dtois' as ccy and \n",
    "swap_type instead of 'usdt' and 'ois'.\n",
    "\n",
    "Solution to above issue:\n",
    "loop through the ticker and save all possible ccys in ccys_list which usually has length of 1.\n",
    "Then, repeat the method above len(ccys_list) times.\n",
    "If it returns a value, the ticker is in our desired format.\n",
    "Else, return False.\n",
    "'''"
   ]
  },
  {
   "cell_type": "code",
   "execution_count": 3,
   "metadata": {},
   "outputs": [
    {
     "name": "stdout",
     "output_type": "stream",
     "text": [
      "('us', 'ois', None, '10y')\n",
      "('bp', 'ff', '5y', '10y')\n",
      "('us', 'sw', None, '10x')\n"
     ]
    }
   ],
   "source": [
    "if __name__ == '__main__':\n",
    "    matcher = TickerMatcher()\n",
    "    for ticker in ('usois10y','bpff5y10y','ussw10x'):\n",
    "        s = matcher.match(ticker)\n",
    "        print(s)"
   ]
  },
  {
   "cell_type": "code",
   "execution_count": null,
   "metadata": {},
   "outputs": [],
   "source": []
  }
 ],
 "metadata": {
  "kernelspec": {
   "display_name": "Python 3",
   "language": "python",
   "name": "python3"
  },
  "language_info": {
   "codemirror_mode": {
    "name": "ipython",
    "version": 3
   },
   "file_extension": ".py",
   "mimetype": "text/x-python",
   "name": "python",
   "nbconvert_exporter": "python",
   "pygments_lexer": "ipython3",
   "version": "3.8.5"
  }
 },
 "nbformat": 4,
 "nbformat_minor": 4
}
