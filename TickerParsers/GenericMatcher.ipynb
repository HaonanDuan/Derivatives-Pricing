{
 "cells": [
  {
   "cell_type": "code",
   "execution_count": 4,
   "metadata": {},
   "outputs": [],
   "source": [
    "import re\n",
    "from string import Template"
   ]
  },
  {
   "cell_type": "code",
   "execution_count": 5,
   "metadata": {},
   "outputs": [],
   "source": [
    "#template class\n",
    "#extract the elements from all kinds of derivatives' tickers\n",
    "class TemplateMatcher(object):\n",
    "    numElements = 0 #number of elements can be extracted\n",
    "    regEx = '' #reggular expression of the ticker\n",
    "\n",
    "    #compile the regEx\n",
    "    def pattern(cls):\n",
    "        reg = re.compile(cls.regEx)\n",
    "        return reg\n",
    "    \n",
    "    #match the ticker and extract elements if valid\n",
    "    def matcher(cls, ticker):\n",
    "        elements = []\n",
    "        result = cls.pattern().match(ticker)\n",
    "        if result:\n",
    "            for i in range(cls.numElements):\n",
    "                elements.append(result.group(i+1))\n",
    "            return elements \n",
    "        return \"Invalid ticker\"\n",
    "            \n",
    "    def list_to_str(List):\n",
    "        string = ''\n",
    "        for char in List:\n",
    "            string=string+char+'|'\n",
    "        return string[:-1]"
   ]
  },
  {
   "cell_type": "code",
   "execution_count": 6,
   "metadata": {},
   "outputs": [],
   "source": [
    "#extract the elements from ir-swap ticker\n",
    "class IRSwapMathcer(TemplateMatcher):\n",
    "    ccy = ['us', 'bp']\n",
    "    swap = ['ois', 'ff']\n",
    "    ccy = TemplateMatcher.list_to_str(ccy)\n",
    "    swap = TemplateMatcher.list_to_str(swap)\n",
    "    forward = '\\d+[ymwb]'\n",
    "    maturity = '\\d+[ymwb]'\n",
    "    template = Template('($ccy)($swap)($forward)?($maturity)')\n",
    "    dict = {'ccy':ccy, 'swap':swap, 'forward':forward, 'maturity':maturity}\n",
    "    numElements = len(dict) \n",
    "    regEx = template.substitute(dict)\n"
   ]
  },
  {
   "cell_type": "code",
   "execution_count": 7,
   "metadata": {},
   "outputs": [
    {
     "name": "stdout",
     "output_type": "stream",
     "text": [
      "['us', 'ois', None, '10y']\n",
      "['bp', 'ff', '5y', '10y']\n",
      "Invalid ticker\n"
     ]
    }
   ],
   "source": [
    "if __name__ == '__main__':\n",
    "    for ticker in ['usois10y', 'bpff5y10y', 'ussw10x']:\n",
    "        IRS = IRSwapMathcer().matcher(ticker)\n",
    "        print(IRS)"
   ]
  },
  {
   "cell_type": "code",
   "execution_count": null,
   "metadata": {},
   "outputs": [],
   "source": []
  }
 ],
 "metadata": {
  "kernelspec": {
   "display_name": "Python 3",
   "language": "python",
   "name": "python3"
  },
  "language_info": {
   "codemirror_mode": {
    "name": "ipython",
    "version": 3
   },
   "file_extension": ".py",
   "mimetype": "text/x-python",
   "name": "python",
   "nbconvert_exporter": "python",
   "pygments_lexer": "ipython3",
   "version": "3.8.5"
  }
 },
 "nbformat": 4,
 "nbformat_minor": 4
}
