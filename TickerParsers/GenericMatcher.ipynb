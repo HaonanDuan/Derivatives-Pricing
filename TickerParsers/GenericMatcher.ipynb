{
 "metadata": {
  "language_info": {
   "codemirror_mode": {
    "name": "ipython",
    "version": 3
   },
   "file_extension": ".py",
   "mimetype": "text/x-python",
   "name": "python",
   "nbconvert_exporter": "python",
   "pygments_lexer": "ipython3",
   "version": "3.8.3"
  },
  "orig_nbformat": 4,
  "kernelspec": {
   "name": "python3",
   "display_name": "Python 3.8.3 64-bit ('base': conda)"
  },
  "interpreter": {
   "hash": "e2090b75444f45286af92f122a700414e62946f9a900a024e12dd376d831aa00"
  }
 },
 "nbformat": 4,
 "nbformat_minor": 2,
 "cells": [
  {
   "cell_type": "code",
   "execution_count": 36,
   "metadata": {},
   "outputs": [],
   "source": [
    "import re\n",
    "from string import Template"
   ]
  },
  {
   "cell_type": "code",
   "execution_count": 140,
   "metadata": {},
   "outputs": [],
   "source": [
    "#template class\n",
    "#extract the elements from all kinds of derivatives' tickers\n",
    "class TemplateMatcher(object):\n",
    "    numElements = 0 #number of elements can be extracted\n",
    "    regEx = '' #reggular expression of the ticker\n",
    "\n",
    "    #compie the regEx\n",
    "    def pattern(cls):\n",
    "        reg = re.compile(cls.regEx)\n",
    "        return reg\n",
    "    \n",
    "    #match the ticker and extract elements if valid\n",
    "    def matcher(cls, ticker):\n",
    "        elements = []\n",
    "        result = cls.pattern().match(ticker)\n",
    "        if result:\n",
    "            for i in range(cls.numElements):\n",
    "                elements.append(result.group(i+1))\n",
    "            return elements \n",
    "        return \"invalid ticker\""
   ]
  },
  {
   "cell_type": "code",
   "execution_count": 141,
   "metadata": {},
   "outputs": [],
   "source": [
    "#extract the elements from ir-swap ticker\n",
    "class IRSwapMathcer(TemplateMatcher):\n",
    "    ccy = 'us|bp'\n",
    "    swap = 'ois|ff'\n",
    "    forward = '\\d+[ymwb]'\n",
    "    maturity = '\\d+[ymwb]'\n",
    "    template = Template('($ccy)($swap)($forward)?($maturity)')\n",
    "    dict = {'ccy':ccy, 'swap':swap, 'forward':forward, 'maturity':maturity}\n",
    "    numElements = len(dict) \n",
    "    regEx = template.substitute(dict)"
   ]
  },
  {
   "cell_type": "code",
   "execution_count": 143,
   "metadata": {},
   "outputs": [
    {
     "output_type": "stream",
     "name": "stdout",
     "text": [
      "['us', 'ois', None, '10y']\n['bp', 'ff', '5y', '10y']\ninvalid ticker\n"
     ]
    }
   ],
   "source": [
    "for ticker in ['usois10y', 'bpff5y10y', 'ussw10x']:\n",
    "    IRS = IRSwapMathcer().matcher(ticker)\n",
    "    print(IRS)"
   ]
  },
  {
   "cell_type": "code",
   "execution_count": null,
   "metadata": {},
   "outputs": [],
   "source": []
  }
 ]
}