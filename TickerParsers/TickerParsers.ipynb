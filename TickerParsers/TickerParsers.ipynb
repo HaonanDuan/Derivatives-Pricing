{
 "cells": [
  {
   "cell_type": "code",
   "execution_count": 8,
   "metadata": {},
   "outputs": [],
   "source": [
    "import re #regular expression library"
   ]
  },
  {
   "cell_type": "code",
   "execution_count": 14,
   "metadata": {},
   "outputs": [],
   "source": [
    "# extract all the parts from the IR Swap ticker\n",
    "# @param ticker is the ticker to be parsed\n",
    "# @return extracted ccy, swap type, forward and maturity\n",
    "def parse_IRS(ticker):\n",
    "    reg = re.compile('(\\w\\w)(\\D+)(\\d+\\w)?(\\d+\\w)') #define ticker's regEx\n",
    "    result = reg.match(ticker) #match the ticker with regEx\n",
    "    \n",
    "    #extract each part from matched result\n",
    "    ccy = result.group(1) \n",
    "    swap_type = result.group(2)\n",
    "    forward = result.group(3)\n",
    "    maturity = result.group(4)\n",
    "    \n",
    "    return ccy, swap_type, forward, maturity"
   ]
  },
  {
   "cell_type": "code",
   "execution_count": 12,
   "metadata": {},
   "outputs": [],
   "source": [
    "ticker_1 = 'usois10y'\n",
    "ticker_2 = 'bpff5y10y'\n",
    "ticker_3 = 'ussw10x'"
   ]
  },
  {
   "cell_type": "code",
   "execution_count": 15,
   "metadata": {},
   "outputs": [
    {
     "name": "stdout",
     "output_type": "stream",
     "text": [
      "('us', 'ois', None, '10y')\n",
      "('bp', 'ff', '5y', '10y')\n",
      "('us', 'sw', None, '10x')\n"
     ]
    }
   ],
   "source": [
    "print(parse_IRS(ticker_1))\n",
    "print(parse_IRS(ticker_2))\n",
    "print(parse_IRS(ticker_3))"
   ]
  },
  {
   "cell_type": "code",
   "execution_count": null,
   "metadata": {},
   "outputs": [],
   "source": [
    "# check whether ticker is valid \n",
    "# @param ccy, swap_type, forward, maturity are ticker's components to be checked\n",
    "# @return true if all the components are valid, false otherwise\n",
    "def IRS_validity_checker(ccy, swap_type, forward, maturity):\n",
    "    #conditions..."
   ]
  }
 ],
 "metadata": {
  "kernelspec": {
   "display_name": "Python 3",
   "language": "python",
   "name": "python3"
  },
  "language_info": {
   "codemirror_mode": {
    "name": "ipython",
    "version": 3
   },
   "file_extension": ".py",
   "mimetype": "text/x-python",
   "name": "python",
   "nbconvert_exporter": "python",
   "pygments_lexer": "ipython3",
   "version": "3.8.3"
  },
  "toc": {
   "base_numbering": 1,
   "nav_menu": {},
   "number_sections": true,
   "sideBar": true,
   "skip_h1_title": false,
   "title_cell": "Table of Contents",
   "title_sidebar": "Contents",
   "toc_cell": false,
   "toc_position": {},
   "toc_section_display": true,
   "toc_window_display": false
  }
 },
 "nbformat": 4,
 "nbformat_minor": 4
}
