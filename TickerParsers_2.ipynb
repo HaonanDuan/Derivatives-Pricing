{
 "cells": [
  {
   "cell_type": "code",
   "execution_count": 4,
   "metadata": {},
   "outputs": [],
   "source": [
    "import re #regular expression library"
   ]
  },
  {
   "cell_type": "code",
   "execution_count": 119,
   "metadata": {},
   "outputs": [],
   "source": [
    "# extract all the parts from the IR Swap ticker\n",
    "# @param ticker is the ticker to be parsed\n",
    "# @return extracted ccy, swap type, forward and maturity\n",
    "class TickerMatcher:\n",
    "    def __init__(self):\n",
    "        self.ticker = None\n",
    "    \n",
    "    def IR_match(self, ticker):\n",
    "        ccy_list = ['us','eu','cd','bp']\n",
    "        swap_type_list = ['ois', 'ff']\n",
    "        \n",
    "        for ccy in ccy_list:\n",
    "            reg = re.compile('('+ ccy + ')' + '(\\D+)(\\d+[msyhMw])?(\\d+[msyhMw])') #define ticker's regEx\n",
    "            result = reg.match(ticker) #match the ticker with regEx\n",
    "            if result != None:\n",
    "                if (result.group(1) != None) and (result.group(2) != None) and (result.group(4) != None):\n",
    "                    ccy = result.group(1) \n",
    "                    swap_type = result.group(2)\n",
    "                    forward = result.group(3)\n",
    "                    maturity = result.group(4)\n",
    "                    \n",
    "                    if forward != None:\n",
    "                        if swap_type in swap_type_list:\n",
    "                            return ccy, swap_type, forward, maturity\n",
    "                    else:\n",
    "                        if swap_type in swap_type_list:\n",
    "                            return ccy, swap_type, forward, maturity\n",
    "        \n",
    "        return ('Incorrect format')"
   ]
  },
  {
   "cell_type": "code",
   "execution_count": 120,
   "metadata": {
    "scrolled": true
   },
   "outputs": [
    {
     "name": "stdout",
     "output_type": "stream",
     "text": [
      "('us', 'ois', None, '10s')\n",
      "('bp', 'ff', '5y', '10y')\n",
      "Incorrect format\n"
     ]
    }
   ],
   "source": [
    "if __name__ == '__main__':\n",
    "    matcher = TickerMatcher()\n",
    "    for ticker in ('usois10s','bpff5y10y','ussw10x'):\n",
    "        s = matcher.IR_match(ticker)\n",
    "        print(s)"
   ]
  },
  {
   "cell_type": "code",
   "execution_count": null,
   "metadata": {},
   "outputs": [],
   "source": []
  }
 ],
 "metadata": {
  "kernelspec": {
   "display_name": "Python 3",
   "language": "python",
   "name": "python3"
  },
  "language_info": {
   "codemirror_mode": {
    "name": "ipython",
    "version": 3
   },
   "file_extension": ".py",
   "mimetype": "text/x-python",
   "name": "python",
   "nbconvert_exporter": "python",
   "pygments_lexer": "ipython3",
   "version": "3.8.5"
  }
 },
 "nbformat": 4,
 "nbformat_minor": 4
}
